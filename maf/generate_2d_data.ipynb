{
 "cells": [
  {
   "cell_type": "code",
   "execution_count": 2,
   "id": "a4fb110e",
   "metadata": {},
   "outputs": [],
   "source": [
    "import numpy as np\n",
    "import torch\n",
    "import torch.nn as nn\n",
    "import torch.nn.functional as F\n",
    "import torch.linalg as linalg\n",
    "import torch.distributions as tdist\n",
    "\n",
    "import torch.optim as optim\n",
    "import math\n",
    "import matplotlib.pyplot as plt"
   ]
  },
  {
   "cell_type": "code",
   "execution_count": 3,
   "id": "bb3e4a2c",
   "metadata": {},
   "outputs": [],
   "source": [
    "class GMM(nn.Module):\n",
    "    \n",
    "    def __init__(self, D, K, cov_style=\"full\", μs_init_min_and_max=None):\n",
    "        \n",
    "        super().__init__()\n",
    "        \n",
    "        self.K = K\n",
    "        self.D = D\n",
    "        self.cov_style = cov_style\n",
    "        \n",
    "        self.pre_π = nn.Parameter(torch.zeros(self.K, ))\n",
    "        \n",
    "        if μs_init_min_and_max is None:\n",
    "            self.μs = nn.Parameter((torch.rand(self.K, self.D) - 0.5) * 2)\n",
    "        else:\n",
    "            μs_init_range = μs_init_min_and_max[1] - μs_init_min_and_max[0]\n",
    "            self.μs = nn.Parameter(\n",
    "                torch.rand(self.K, self.D) * μs_init_range.reshape(1, self.D) + μs_init_min_and_max[0].reshape(1, self.D)\n",
    "            )\n",
    "        \n",
    "        if self.cov_style == \"full\":\n",
    "            Σs_init = torch.eye(D).reshape(1, D, D).repeat(self.K, 1, 1)\n",
    "            self.pre_Σs = nn.Parameter(linalg.cholesky(Σs_init, upper=True))\n",
    "        elif self.cov_style == \"diag\":\n",
    "            self.pre_Σs = torch.nn.Parameter(torch.rand(self.K, self.D))\n",
    "        else:\n",
    "            raise ValueError(f\"{cov_style} is an invalid covariance style.\")\n",
    "            \n",
    "    @property\n",
    "    def π(self):\n",
    "        return torch.softmax(self.pre_π, dim=0)\n",
    "    \n",
    "    @property\n",
    "    def categorical(self):\n",
    "        return tdist.Categorical(logits=self.pre_π)\n",
    "    \n",
    "    @property\n",
    "    def Σs(self):\n",
    "        if self.cov_style == \"full\":\n",
    "            Ls = torch.triu(self.pre_Σs)\n",
    "            return torch.bmm(Ls.transpose(1, 2), Ls)\n",
    "        elif self.cov_style == \"diag\":\n",
    "            # (K, D, 1) * (1, D, D) =(broadcast)=> (K, D, D) * (K, D, D) =(elementwise)=> (K, D, D)\n",
    "            return (self.pre_Σs ** 2).unsqueeze(-1) * torch.eye(self.D).unsqueeze(0)\n",
    "    \n",
    "    @property\n",
    "    def gaussians(self):\n",
    "        return tdist.MultivariateNormal(self.μs, self.Σs)\n",
    "        \n",
    "    def log_prob(self, samples):\n",
    "        \n",
    "        # this function just implements the log probability of the gmm model in a numerically stable way\n",
    "        \n",
    "        N = samples.shape[0]\n",
    "        log_π = F.log_softmax(self.pre_π, dim=0).reshape(1, -1)  # (1, K)\n",
    "        log_probs_under_each_gaussian = self.gaussians.log_prob(samples.reshape(N, 1, self.D))  # (N, K)\n",
    "        log_probs = torch.logsumexp(log_π + log_probs_under_each_gaussian, dim=1)\n",
    "        \n",
    "        return log_probs\n",
    "    \n",
    "    def sample(self, N):\n",
    "        \n",
    "        indices = self.categorical.sample((N, ))  # (N,)\n",
    "        samples_from_each_gaussian = self.gaussians.rsample(sample_shape=(N, ))  # (n, K, D)\n",
    "        \n",
    "        # from pytorch doc for gather: out[i][j][k] = input[i][index[i][j][k]][k]\n",
    "        # we know that we want samples to be of shape (N, D), so out should have shape (N, 1, D)\n",
    "        \n",
    "        samples = samples_from_each_gaussian.gather(\n",
    "            dim=1,  # we will be indexing through the 1-th dimension (K)\n",
    "            index=indices.reshape(-1, 1, 1).repeat(1, 1, self.D)\n",
    "        ).squeeze()  # (N, D)\n",
    "        \n",
    "        return samples\n",
    "    \n",
    "    def compute_kl(self, log_unnorm_p, N_per_gaussian):\n",
    "\n",
    "        # I was able to compute a stochastic estimate of KL using two tricks:\n",
    "        # 1) bypass reparameterizing the categorical using marginalization (I don't want to use GumbelSoftmax)\n",
    "        # 2) pathwise gradient through Gaussians through reparameterization\n",
    "        \n",
    "        samples = self.gaussians.rsample((N_per_gaussian, )).reshape(N_per_gaussian * self.K, self.D)\n",
    "        kl = (self.π.repeat(N_per_gaussian) * (self.log_prob(samples) - log_unnorm_p(samples))).sum() / N_per_gaussian\n",
    "        \n",
    "        return kl"
   ]
  },
  {
   "cell_type": "code",
   "execution_count": 4,
   "id": "dd858e9e",
   "metadata": {},
   "outputs": [],
   "source": [
    "def w1(z): return torch.sin(2 * torch.pi * z[:, 0] / 4)                 \n",
    "def w2(z): return 3 * torch.exp(-0.5 * ((z[:, 0] - 1) / 0.5) ** 2)\n",
    "def σ(x): return 1 / (1 + torch.exp(-x))\n",
    "def w3(z): return 3 * σ((z[:, 0] - 1) / 0.3)"
   ]
  },
  {
   "cell_type": "code",
   "execution_count": 5,
   "id": "84c10a3d",
   "metadata": {},
   "outputs": [],
   "source": [
    "def safe_log(x):\n",
    "    return torch.log(x + 1e-5)\n",
    "\n",
    "def U1(z):\n",
    "    part_1 = (1 / 2) * ((torch.sqrt(z[:, 0] ** 2 + z[:, 1] ** 2) - 2) / 0.4) ** 2\n",
    "    part_2 = safe_log(\n",
    "        torch.exp(-0.5 * ((z[:, 0] - 2) / 0.6) ** 2) +\n",
    "        torch.exp(-0.5 * ((z[:, 0] + 2) / 0.6) ** 2)\n",
    "    )\n",
    "    return part_1 - part_2\n",
    "\n",
    "def taper(z):\n",
    "    return torch.sigmoid(\n",
    "        ( 5 - torch.linalg.vector_norm(z, dim=1, ord=np.inf) ) * 10\n",
    "    )\n",
    "\n",
    "def add_taper(potential):\n",
    "    def new_potential(z):\n",
    "        # so density is exp(-potential(z) + log(taper(z))) = exp(-potential(z)) * taper(z)\n",
    "        return potential(z) - safe_log(taper(z))\n",
    "    return new_potential\n",
    "\n",
    "@add_taper\n",
    "def U2(z):\n",
    "    return ((1/2) * ((z[:,1] - w1(z)) / 0.4) ** 2)\n",
    "\n",
    "@add_taper\n",
    "def U3(z):\n",
    "    return - safe_log(\n",
    "        torch.exp(-0.5 * ((z[:, 1] - w1(z)) / 0.35) ** 2) + \n",
    "        torch.exp(-0.5 * ((z[:, 1] - w1(z) + w2(z)) / 0.35) ** 2)\n",
    "    )\n",
    "\n",
    "@add_taper\n",
    "def U4(z):\n",
    "    return - safe_log(\n",
    "        torch.exp(-0.5 * ((z[:, 1] - w1(z)) / 0.34) ** 2) + \n",
    "        torch.exp(-0.5 * ((z[:, 1] - w1(z) + w3(z)) / 0.35) ** 2)\n",
    "    )\n",
    "\n",
    "def U_with_argument(z, angle, distance):\n",
    "    rotational_matrix = torch.Tensor([\n",
    "        [torch.cos(torch.tensor(angle)), -torch.sin(torch.tensor(angle))],\n",
    "        [torch.sin(torch.tensor(angle)), torch.cos(torch.tensor(angle))]\n",
    "    ])\n",
    "    z = (rotational_matrix @ z.T).T\n",
    "    term1 = 0.5 * ((torch.sqrt(z[:,0] ** 2 + z[:,1] ** 2) - distance) / 0.4) ** 2\n",
    "    term2 = safe_log(\n",
    "        torch.exp(-0.5 * ((z[:,0] - distance) / 0.6) ** 2) + \n",
    "        torch.exp(-0.5 * ((z[:,0] + distance) / 0.6) ** 2)\n",
    "    )\n",
    "    return (term1 - term2)\n",
    "def U8(z, divider=1):\n",
    "    return U_with_argument(z, torch.pi/4, 3) + \\\n",
    "           U_with_argument(z, torch.pi / 2 + torch.pi/4, 3) + \\\n",
    "           U_with_argument(z, 0, 3) + \\\n",
    "           U_with_argument(z, torch.pi / 2, 3)"
   ]
  },
  {
   "cell_type": "code",
   "execution_count": 198,
   "id": "d6e63710",
   "metadata": {},
   "outputs": [],
   "source": [
    "potential_func = \"U8\"\n",
    "U = eval(potential_func)"
   ]
  },
  {
   "cell_type": "code",
   "execution_count": 88,
   "id": "dda2ddc9",
   "metadata": {},
   "outputs": [],
   "source": [
    "xs = torch.linspace(-6, 6, 100)\n",
    "ys = torch.linspace(-6, 6, 100)\n",
    "xxs, yys = torch.meshgrid(xs, ys)\n",
    "xxs_flat, yys_flat = xxs.reshape(-1, 1), yys.reshape(-1, 1)\n",
    "grid = torch.hstack([xxs_flat, yys_flat])"
   ]
  },
  {
   "cell_type": "code",
   "execution_count": 200,
   "id": "b8a5de20",
   "metadata": {},
   "outputs": [
    {
     "data": {
      "image/png": "[encoded data removed]",
      "text/plain": [
       "<Figure size 360x360 with 1 Axes>"
      ]
     },
     "metadata": {},
     "output_type": "display_data"
    }
   ],
   "source": [
    "plt.figure(figsize=(5, 5))\n",
    "\n",
    "plt.contourf(\n",
    "    xxs.numpy(), yys.numpy(), torch.exp(-U(grid).reshape(100, 100)),\n",
    "    levels=20, cmap=\"turbo\"\n",
    ")\n",
    "\n",
    "plt.xticks([])\n",
    "plt.yticks([])\n",
    "\n",
    "plt.title(f\"{potential_func} Unnorm. Density\", fontsize=20, fontweight=\"bold\")\n",
    "\n",
    "plt.savefig(f\"2d_data/{potential_func}_unnorm_density.png\", dpi=300, bbox_inches=\"tight\")"
   ]
  },
  {
   "cell_type": "code",
   "execution_count": 201,
   "id": "66878c63",
   "metadata": {},
   "outputs": [
    {
     "name": "stdout",
     "output_type": "stream",
     "text": [
      "Iteration: 1000  KL: 8.074025440216065\n",
      "Iteration: 2000  KL: 7.9886869430542\n",
      "Iteration: 3000  KL: 7.987804937362671\n",
      "Iteration: 4000  KL: 7.987957827250162\n",
      "Iteration: 5000  KL: 7.988169956207275\n",
      "Iteration: 6000  KL: 7.987179279327393\n",
      "Iteration: 7000  KL: 7.987276363372803\n",
      "Iteration: 8000  KL: 7.989356311162313\n",
      "Iteration: 9000  KL: 7.98791872660319\n",
      "Iteration: 10000  KL: 7.988452831904094\n"
     ]
    }
   ],
   "source": [
    "torch.manual_seed(42)\n",
    "\n",
    "K = 50\n",
    "\n",
    "q = GMM(\n",
    "    D=2,\n",
    "    K=K,\n",
    "    μs_init_min_and_max=torch.tensor([\n",
    "        [-6., -6.],\n",
    "        [6., 6.]]\n",
    "    )\n",
    ")\n",
    "opt = optim.Adam(q.parameters(), lr=1e-2)\n",
    "\n",
    "μs_init = q.μs.detach().numpy().copy()\n",
    "N = 1000\n",
    "N_per_gaussian = math.ceil(N / K)\n",
    "\n",
    "sample_kls = []\n",
    "\n",
    "for i in range(1, 10001):\n",
    "\n",
    "    sample_kl = q.compute_kl(log_unnorm_p=lambda x: -U(x), N_per_gaussian=N_per_gaussian)\n",
    "\n",
    "    sample_kls.append(float(sample_kl))\n",
    "\n",
    "    opt.zero_grad()\n",
    "    sample_kl.backward()\n",
    "    opt.step()\n",
    "\n",
    "    if i % 1000 == 0:\n",
    "        print(\"Iteration:\", i, \" KL:\", sum(sample_kls[-30:]) / 30)"
   ]
  },
  {
   "cell_type": "code",
   "execution_count": 202,
   "id": "a4d158dc",
   "metadata": {},
   "outputs": [],
   "source": [
    "torch.manual_seed(42)\n",
    "with torch.no_grad():\n",
    "    samples = q.sample(11000).numpy()"
   ]
  },
  {
   "cell_type": "code",
   "execution_count": 203,
   "id": "4173b5f5",
   "metadata": {},
   "outputs": [],
   "source": [
    "np.save(f\"2d_data/{potential_func}_gmm_samples.npy\", samples)"
   ]
  },
  {
   "cell_type": "code",
   "execution_count": 204,
   "id": "629664ad",
   "metadata": {
    "pycharm": {
     "name": "#%%\n"
    }
   },
   "outputs": [],
   "source": [
    "data = np.load(f\"2d_data/{potential_func}_gmm_samples.npy\")"
   ]
  },
  {
   "cell_type": "code",
   "execution_count": 205,
   "id": "712bcded",
   "metadata": {},
   "outputs": [
    {
     "data": {
      "image/png": "[encoded data removed]",
      "text/plain": [
       "<Figure size 360x360 with 1 Axes>"
      ]
     },
     "metadata": {},
     "output_type": "display_data"
    }
   ],
   "source": [
    "plt.figure(figsize=(5, 5))\n",
    "plt.scatter(samples[:, 0], samples[:, 1], s=0.1, color=\"black\")\n",
    "plt.xlim(-6, 6)\n",
    "plt.ylim(-6, 6)\n",
    "plt.xticks([])\n",
    "plt.yticks([])\n",
    "plt.title(f\"{potential_func} GMM Samples\", fontsize=20, fontweight=\"bold\")\n",
    "plt.savefig(f\"2d_data/{potential_func}_gmm_samples.png\", dpi=300, bbox_inches=\"tight\")"
   ]
  },
  {
   "cell_type": "code",
   "execution_count": null,
   "id": "7ab77b34",
   "metadata": {},
   "outputs": [],
   "source": []
  },
  {
   "cell_type": "code",
   "execution_count": 206,
   "id": "875a7b91",
   "metadata": {},
   "outputs": [],
   "source": [
    "with torch.no_grad():\n",
    "    probs = q.log_prob(grid).exp().numpy()"
   ]
  },
  {
   "cell_type": "code",
   "execution_count": 207,
   "id": "687d1961",
   "metadata": {},
   "outputs": [
    {
     "data": {
      "image/png": "[encoded data removed]",
      "text/plain": [
       "<Figure size 360x360 with 1 Axes>"
      ]
     },
     "metadata": {},
     "output_type": "display_data"
    }
   ],
   "source": [
    "plt.figure(figsize=(5, 5))\n",
    "\n",
    "plt.contourf(\n",
    "    xxs.numpy(), yys.numpy(), probs.reshape(100, 100),\n",
    "    levels=20, cmap=\"turbo\"\n",
    ")\n",
    "\n",
    "plt.xticks([])\n",
    "plt.yticks([])\n",
    "\n",
    "plt.title(f\"{potential_func} GMM Density\", fontsize=20, fontweight=\"bold\")\n",
    "plt.savefig(f\"2d_data/{potential_func}_gmm_density.png\", dpi=300, bbox_inches=\"tight\")"
   ]
  },
  {
   "cell_type": "code",
   "execution_count": null,
   "id": "1db44aa7",
   "metadata": {},
   "outputs": [],
   "source": []
  }
 ],
 "metadata": {
  "kernelspec": {
   "display_name": "Python 3 (ipykernel)",
   "language": "python",
   "name": "python3"
  },
  "language_info": {
   "codemirror_mode": {
    "name": "ipython",
    "version": 3
   },
   "file_extension": ".py",
   "mimetype": "text/x-python",
   "name": "python",
   "nbconvert_exporter": "python",
   "pygments_lexer": "ipython3",
   "version": "3.8.13"
  },
  "toc": {
   "base_numbering": 1,
   "nav_menu": {},
   "number_sections": false,
   "sideBar": true,
   "skip_h1_title": false,
   "title_cell": "Table of Contents",
   "title_sidebar": "Contents",
   "toc_cell": false,
   "toc_position": {},
   "toc_section_display": true,
   "toc_window_display": false
  }
 },
 "nbformat": 4,
 "nbformat_minor": 5
}