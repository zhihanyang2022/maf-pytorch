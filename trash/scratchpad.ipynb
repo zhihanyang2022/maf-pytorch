{
 "cells": [
  {
   "cell_type": "code",
   "execution_count": 2,
   "id": "cc07b81e",
   "metadata": {},
   "outputs": [],
   "source": [
    "import torch"
   ]
  },
  {
   "cell_type": "code",
   "execution_count": 5,
   "id": "04f1b758",
   "metadata": {},
   "outputs": [],
   "source": [
    "def one_dim_mog_loglik(x, mean, log_precision, log_mixing_coeff):\n",
    "    \"\"\"\n",
    "    Compute the log likelihood of a one-dimensional mixture of Gaussians.\n",
    "\n",
    "    :param x: ()\n",
    "    :param mean: (number of components)\n",
    "    :param log_precision: (number of components)\n",
    "    :param log_mixing_coeff: (number of components)\n",
    "    :return: ()\n",
    "    \"\"\"\n",
    "    return torch.logsumexp(\n",
    "        log_mixing_coeff + 0.5 * log_precision - half_log_2pi - 0.5 * (x - mean).pow(2) * torch.exp(log_precision),\n",
    "        dim=0\n",
    "    )"
   ]
  },
  {
   "cell_type": "code",
   "execution_count": 8,
   "id": "5628518a",
   "metadata": {},
   "outputs": [],
   "source": [
    "half_log_2pi = 0.5 * torch.log(torch.Tensor([2.]) * torch.pi)\n"
   ]
  },
  {
   "cell_type": "code",
   "execution_count": 24,
   "id": "51e804ae",
   "metadata": {},
   "outputs": [],
   "source": [
    "x = torch.randn(64, 2, 1)\n",
    "mean = torch.randn(64, 2, 10)\n",
    "log_precision = torch.randn(64, 2, 10)\n",
    "log_mixing_coeff = torch.randn(64, 2, 10)"
   ]
  },
  {
   "cell_type": "code",
   "execution_count": 22,
   "id": "dc3b99ad",
   "metadata": {},
   "outputs": [],
   "source": [
    "one_dim_mog_loglik_batch = torch.vmap(torch.vmap(one_dim_mog_loglik, (0, 0, 0, 0), 0), (0, 0, 0, 0), 0)\n"
   ]
  },
  {
   "cell_type": "code",
   "execution_count": 29,
   "id": "89c876f3",
   "metadata": {},
   "outputs": [
    {
     "data": {
      "text/plain": [
       "tensor([ 2.0702,  0.1381,  1.2038,  3.4051,  3.9353,  3.8459,  1.3715,  2.1942,\n",
       "         0.9268,  1.5055,  2.0539,  3.0408,  2.0117,  2.6481,  3.1735,  1.0080,\n",
       "         2.3431,  2.6863,  1.3720,  3.4869,  3.3829,  1.6545,  2.6547,  3.1463,\n",
       "         2.6971,  3.0652,  3.2159,  2.9426,  1.5247,  2.4589,  2.0217,  3.3767,\n",
       "         2.1604,  3.0058,  1.6725,  2.5030,  2.8873,  3.7920,  1.8447,  1.4334,\n",
       "         1.2729,  1.4499,  2.3665,  2.6460,  2.4992,  2.6306,  1.3719,  1.7140,\n",
       "         1.0367,  3.5005,  2.2982,  2.6918,  1.1801,  3.1937,  2.0853,  2.6917,\n",
       "         1.7581, -2.0364,  2.4603,  0.3507,  2.4308,  2.7435,  2.2609,  2.4107])"
      ]
     },
     "execution_count": 29,
     "metadata": {},
     "output_type": "execute_result"
    }
   ],
   "source": [
    "one_dim_mog_loglik_batch(x, mean, log_precision, log_mixing_coeff).sum(dim=1)"
   ]
  },
  {
   "cell_type": "code",
   "execution_count": null,
   "id": "5de3aca1",
   "metadata": {},
   "outputs": [],
   "source": []
  }
 ],
 "metadata": {
  "kernelspec": {
   "display_name": "Python 3 (ipykernel)",
   "language": "python",
   "name": "python3"
  },
  "language_info": {
   "codemirror_mode": {
    "name": "ipython",
    "version": 3
   },
   "file_extension": ".py",
   "mimetype": "text/x-python",
   "name": "python",
   "nbconvert_exporter": "python",
   "pygments_lexer": "ipython3",
   "version": "3.8.13"
  },
  "toc": {
   "base_numbering": 1,
   "nav_menu": {},
   "number_sections": false,
   "sideBar": true,
   "skip_h1_title": false,
   "title_cell": "Table of Contents",
   "title_sidebar": "Contents",
   "toc_cell": false,
   "toc_position": {},
   "toc_section_display": true,
   "toc_window_display": false
  }
 },
 "nbformat": 4,
 "nbformat_minor": 5
}
